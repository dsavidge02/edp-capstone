{
 "cells": [
  {
   "cell_type": "code",
   "execution_count": 14,
   "metadata": {},
   "outputs": [],
   "source": [
    "import pandas as pd\n",
    "from sklearn.neighbors import NearestNeighbors\n",
    "\n",
    "# Assuming df is your original DataFrame read from JSON\n",
    "df = pd.read_json(\"ducks.json\")\n",
    "\n",
    "# Select relevant columns\n",
    "df_selected = df[['productID', 'duckDetails', 'additionalFeatures', 'productName']].copy()\n",
    "\n",
    "# Extract specific values from nested dictionaries\n",
    "df_selected['price'] = df_selected['duckDetails'].apply(lambda x: x['price'])\n",
    "df_selected['style'] = df_selected['duckDetails'].apply(lambda x: x['style'])\n",
    "df_selected['speed'] = df_selected['duckDetails'].apply(lambda x: x['speed'])\n",
    "df_selected['size'] = df_selected['duckDetails'].apply(lambda x: x['size'])\n",
    "df_selected['condition'] = df_selected['duckDetails'].apply(lambda x: x['condition'])\n",
    "df_selected['buoyancy'] = df_selected['additionalFeatures'].apply(lambda x: x['buoyancy'])\n",
    "\n",
    "# Drop columns that are no longer needed\n",
    "df_selected.drop(['duckDetails', 'additionalFeatures', 'productName'], axis=1, inplace=True)\n",
    "\n",
    "# Apply one-hot encoding to categorical variables\n",
    "df_encoded = pd.get_dummies(df_selected, columns=['speed', 'style', 'size', 'condition', 'buoyancy'])\n",
    "\n",
    "knn = NearestNeighbors(n_neighbors=3).fit(df_encoded)"
   ]
  },
  {
   "cell_type": "code",
   "execution_count": 17,
   "metadata": {},
   "outputs": [
    {
     "name": "stdout",
     "output_type": "stream",
     "text": [
      "Selected Product:\n",
      "productID        1\n",
      "price            5\n",
      "style         food\n",
      "speed         slow\n",
      "size         large\n",
      "condition      new\n",
      "buoyancy     False\n",
      "Name: 1, dtype: object\n",
      "\n",
      "Recommended Products:\n",
      "   productID  price   style    speed   size condition  buoyancy\n",
      "1          1      5    food     slow  large       new     False\n",
      "2          2      3  pirate  average  large       new     False\n",
      "3          3      3  sports  average  large      used     False\n"
     ]
    }
   ],
   "source": [
    "selected_product_features = df_encoded[df_encoded['productID'] == 1]\n",
    "selected_product_index = selected_product_features.index[0]\n",
    "distances, indices = knn.kneighbors(selected_product_features)\n",
    "recommended_product_indices = indices.flatten()\n",
    "recommended_products = df_selected.iloc[recommended_product_indices]\n",
    "\n",
    "print(\"Selected Product:\")\n",
    "print(df_selected.iloc[selected_product_index])\n",
    "print(\"\\nRecommended Products:\")\n",
    "print(recommended_products)"
   ]
  }
 ],
 "metadata": {
  "kernelspec": {
   "display_name": "Python 3",
   "language": "python",
   "name": "python3"
  },
  "language_info": {
   "codemirror_mode": {
    "name": "ipython",
    "version": 3
   },
   "file_extension": ".py",
   "mimetype": "text/x-python",
   "name": "python",
   "nbconvert_exporter": "python",
   "pygments_lexer": "ipython3",
   "version": "3.12.3"
  }
 },
 "nbformat": 4,
 "nbformat_minor": 2
}
