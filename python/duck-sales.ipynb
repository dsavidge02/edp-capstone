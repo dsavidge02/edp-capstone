{
 "cells": [
  {
   "cell_type": "code",
   "execution_count": 3,
   "metadata": {},
   "outputs": [],
   "source": [
    "import pandas as pd\n",
    "from sklearn.neighbors import NearestNeighbors\n",
    "\n",
    "# Assuming df is your original DataFrame read from JSON\n",
    "df = pd.read_json(\"ducks.json\")\n",
    "\n",
    "# Select relevant columns\n",
    "df_selected = df[['duckDetails', 'additionalFeatures', 'productName']].copy()\n",
    "\n",
    "# Extract specific values from nested dictionaries\n",
    "df_selected['price'] = df_selected['duckDetails'].apply(lambda x: x['price'])\n",
    "df_selected['style'] = df_selected['duckDetails'].apply(lambda x: x['style'])\n",
    "df_selected['speed'] = df_selected['duckDetails'].apply(lambda x: x['speed'])\n",
    "df_selected['size'] = df_selected['duckDetails'].apply(lambda x: x['size'])\n",
    "df_selected['condition'] = df_selected['duckDetails'].apply(lambda x: x['condition'])\n",
    "df_selected['buoyancy'] = df_selected['additionalFeatures'].apply(lambda x: x['buoyancy'])\n",
    "\n",
    "# Drop columns that are no longer needed\n",
    "df_selected.drop(['duckDetails', 'additionalFeatures', 'productName'], axis=1, inplace=True)\n",
    "\n",
    "# Apply one-hot encoding to categorical variables\n",
    "df_encoded = pd.get_dummies(df_selected, columns=['speed', 'style', 'size', 'condition', 'buoyancy'])\n",
    "\n",
    "knn = NearestNeighbors(n_neighbors=3).fit(df_encoded)"
   ]
  },
  {
   "cell_type": "code",
   "execution_count": 7,
   "metadata": {},
   "outputs": [
    {
     "name": "stdout",
     "output_type": "stream",
     "text": [
      "   price  speed_average  speed_fast  speed_mystery  speed_slow  style_animal  \\\n",
      "1      5          False       False          False        True         False   \n",
      "\n",
      "   style_classic  style_food  style_pirate  style_sports  size_large  \\\n",
      "1          False        True         False         False        True   \n",
      "\n",
      "   size_medium  size_small  condition_new  condition_used  buoyancy_False  \\\n",
      "1        False       False           True           False            True   \n",
      "\n",
      "   buoyancy_True  \n",
      "1          False  \n",
      "Selected Product:\n",
      "price            5\n",
      "style         food\n",
      "speed         slow\n",
      "size         large\n",
      "condition      new\n",
      "buoyancy     False\n",
      "Name: 1, dtype: object\n",
      "\n",
      "Recommended Products:\n",
      "     price   style speed    size condition  buoyancy\n",
      "1        5    food  slow   large       new     False\n",
      "69       5  pirate  slow   large       new     False\n",
      "145      5    food  slow  medium       new     False\n"
     ]
    }
   ],
   "source": [
    "selected_product_features = df_encoded.iloc[[1]]\n",
    "print(selected_product_features)\n",
    "selected_product_index = 1\n",
    "distances, indices = knn.kneighbors(selected_product_features)\n",
    "recommended_product_indices = indices.flatten()\n",
    "recommended_products = df_selected.iloc[recommended_product_indices]\n",
    "\n",
    "print(\"Selected Product:\")\n",
    "print(df_selected.iloc[selected_product_index])\n",
    "print(\"\\nRecommended Products:\")\n",
    "print(recommended_products)"
   ]
  },
  {
   "cell_type": "code",
   "execution_count": 8,
   "metadata": {},
   "outputs": [
    {
     "name": "stdout",
     "output_type": "stream",
     "text": [
      "Model saved to pickle\n"
     ]
    }
   ],
   "source": [
    "import pickle\n",
    "\n",
    "with open('knn_model.pkl', 'wb') as f:\n",
    "    pickle.dump(knn, f)\n",
    "\n",
    "print(f\"Model saved to pickle\")"
   ]
  },
  {
   "cell_type": "code",
   "execution_count": 9,
   "metadata": {},
   "outputs": [],
   "source": [
    "df_encoded.to_parquet('df_encoded.parquet', index=False)\n"
   ]
  },
  {
   "cell_type": "code",
   "execution_count": null,
   "metadata": {},
   "outputs": [],
   "source": []
  }
 ],
 "metadata": {
  "kernelspec": {
   "display_name": "Python 3",
   "language": "python",
   "name": "python3"
  },
  "language_info": {
   "codemirror_mode": {
    "name": "ipython",
    "version": 3
   },
   "file_extension": ".py",
   "mimetype": "text/x-python",
   "name": "python",
   "nbconvert_exporter": "python",
   "pygments_lexer": "ipython3",
   "version": "3.12.3"
  }
 },
 "nbformat": 4,
 "nbformat_minor": 2
}
